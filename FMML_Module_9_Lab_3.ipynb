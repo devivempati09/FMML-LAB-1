{
  "nbformat": 4,
  "nbformat_minor": 0,
  "metadata": {
    "colab": {
      "provenance": [],
      "include_colab_link": true
    },
    "kernelspec": {
      "name": "python3",
      "display_name": "Python 3"
    },
    "language_info": {
      "name": "python"
    }
  },
  "cells": [
    {
      "cell_type": "markdown",
      "metadata": {
        "id": "view-in-github",
        "colab_type": "text"
      },
      "source": [
        "<a href=\"https://colab.research.google.com/github/devivempati09/FMML-LAB-1/blob/main/FMML_Module_9_Lab_3.ipynb\" target=\"_parent\"><img src=\"https://colab.research.google.com/assets/colab-badge.svg\" alt=\"Open In Colab\"/></a>"
      ]
    },
    {
      "cell_type": "markdown",
      "source": [
        "# Module 9: Convolutional Neural Networks\n",
        "## **Lab 3**\n",
        "### Module coordinator: Kushagra Agarwal"
      ],
      "metadata": {
        "id": "kCpbL40ggQf1"
      }
    },
    {
      "cell_type": "markdown",
      "source": [
        "## 1. Understanding Convolutions"
      ],
      "metadata": {
        "id": "0hAW8ptqVeyP"
      }
    },
    {
      "cell_type": "markdown",
      "source": [
        "<img src=\"https://miro.medium.com/max/464/0*e-SMFTzO8r7skkpc\" width=650px/>"
      ],
      "metadata": {
        "id": "q6wfvhccKxWx"
      }
    },
    {
      "cell_type": "code",
      "execution_count": 24,
      "metadata": {
        "id": "yZD5S7IQgHbU"
      },
      "outputs": [],
      "source": [
        "import cv2\n",
        "import numpy as np\n",
        "import matplotlib.pyplot as plt"
      ]
    },
    {
      "cell_type": "code",
      "source": [
        "# Importing some pytorch packages\n",
        "import torch\n",
        "from torch.nn import Conv2d"
      ],
      "metadata": {
        "id": "BDE4WBHalreb"
      },
      "execution_count": 25,
      "outputs": []
    },
    {
      "cell_type": "markdown",
      "source": [
        "Central to CNNs, a convolution operation is a linear element-wise multiplication operation between a small filter/kernel and same-sized patch from the image. We move this filter over the image like a sliding window from top left to bottom right. For each point on the image, a value is calculated based on the filter using a convolution operation. These filters can do simplest task like checking if there is a vertical line in the image or complicated task like detecting a human eye in the image.\n",
        "\n",
        "Let's look at the convolution formula:\n",
        "\n",
        "Convolution between image\n",
        "$f(x, y)$ and kernel $k(x, y)$ is\n",
        "$$f(x,y) * k(x,y) = \\sum \\limits _{i=0} ^{W-1} \\sum \\limits _{j=0} ^{H-1} f(i, j) k(x − i, y − j)$$\n",
        "\n",
        "where $W$ and $H$ are the the width and height of the image.\n",
        "\n",
        "The code demonstrates the convolution operation of a 2D matrix (image) with various filters"
      ],
      "metadata": {
        "id": "hbpRXyTpVv7u"
      }
    },
    {
      "cell_type": "markdown",
      "source": [
        "<img src=\"https://www.researchgate.net/profile/Chaim-Baskin/publication/318849314/figure/fig1/AS:614287726870532@1523469015098/Image-convolution-with-an-input-image-of-size-7-7-and-a-filter-kernel-of-size-3-3.png\" alt=\"Convolution\" width=650px height=280px/>"
      ],
      "metadata": {
        "id": "amI6DTS0Ksvo"
      }
    },
    {
      "cell_type": "code",
      "source": [
        "# 2D 3x3 binary image with vertical edge\n",
        "image1 = np.array([[1,1,0], [1,1,0], [1,1,0]])\n",
        "\n",
        "# 2D 3x3 binary image with horizontal edge\n",
        "image2 = np.array([[0,0,0], [0,0,0], [1,1,1]])\n",
        "\n",
        "# On plotting the images\n",
        "plt.imshow(image1, cmap='gray', extent=[0, 3, 3, 0])\n",
        "plt.show()\n",
        "plt.imshow(image2, cmap='gray', extent=[0, 3, 3, 0])\n",
        "plt.show()"
      ],
      "metadata": {
        "colab": {
          "base_uri": "https://localhost:8080/",
          "height": 853
        },
        "id": "IalqupPPkDil",
        "outputId": "38e8c280-4370-49a0-f657-f999d9ddc40a"
      },
      "execution_count": 26,
      "outputs": [
        {
          "output_type": "display_data",
          "data": {
            "text/plain": [
              "<Figure size 640x480 with 1 Axes>"
            ],
            "image/png": "[encoded data removed]"
          },
          "metadata": {}
        },
        {
          "output_type": "display_data",
          "data": {
            "text/plain": [
              "<Figure size 640x480 with 1 Axes>"
            ],
            "image/png": "[encoded data removed]"
          },
          "metadata": {}
        }
      ]
    },
    {
      "cell_type": "code",
      "source": [
        "# Vertical Line filter\n",
        "filter = np.array([[1,0,-1],\n",
        "                   [1,0,-1],\n",
        "                   [1,0,-1]])\n",
        "\n",
        "# Applying filter to first image\n",
        "output = np.sum(np.multiply(image1, filter))\n",
        "print('Output from first image: ', output)\n",
        "\n",
        "# Applying filter to second image\n",
        "output = np.sum(np.multiply(image2, filter))\n",
        "print('Output from second image: ', output)"
      ],
      "metadata": {
        "colab": {
          "base_uri": "https://localhost:8080/"
        },
        "id": "g42INjCaketK",
        "outputId": "3afd8da8-fe78-4ec7-f395-bc151bb44279"
      },
      "execution_count": 27,
      "outputs": [
        {
          "output_type": "stream",
          "name": "stdout",
          "text": [
            "Output from first image:  3\n",
            "Output from second image:  0\n"
          ]
        }
      ]
    },
    {
      "cell_type": "code",
      "source": [
        "# Horizontal edge filter\n",
        "filter = np.array([[-1,-1,-1],\n",
        "                   [ 0, 0, 0],\n",
        "                   [ 1, 1, 1]])\n",
        "\n",
        "output = np.sum(np.multiply(image1, filter))\n",
        "print('Output from first image: ', output)\n",
        "\n",
        "output = np.sum(np.multiply(image2, filter))\n",
        "print('Output from second image: ', output)"
      ],
      "metadata": {
        "colab": {
          "base_uri": "https://localhost:8080/"
        },
        "id": "Tba3ySYUk2df",
        "outputId": "44ad6b3b-7845-4931-ecdd-4977ed85813e"
      },
      "execution_count": 28,
      "outputs": [
        {
          "output_type": "stream",
          "name": "stdout",
          "text": [
            "Output from first image:  0\n",
            "Output from second image:  3\n"
          ]
        }
      ]
    },
    {
      "cell_type": "markdown",
      "source": [
        "Non-zero output suggests that there is a vertical edge present in the first image and not present in the second image. Similarly, horizontal edge is detected in second."
      ],
      "metadata": {
        "id": "BmYcPhDgk_in"
      }
    },
    {
      "cell_type": "markdown",
      "source": [
        "Let's define a function to use convolution layer from Pytorch and use our own kernel to detect edges in image"
      ],
      "metadata": {
        "id": "UNdrDtAKqyj2"
      }
    },
    {
      "cell_type": "code",
      "source": [
        "def apply_conv(image, kernel, padding=0, stride=1):\n",
        "\n",
        "  #--------IMAGE PREPROCESSING-------\n",
        "  image = torch.from_numpy(image)\n",
        "  # Pytorch requires input to convolution in (N,C,H,W), where N = batch size and C=#channels in input\n",
        "  input = image.view((1,1,image.shape[0], image.shape[1]))\n",
        "\n",
        "  # --------------KERNEL-------------\n",
        "  kernel = torch.from_numpy(kernel.astype(np.float32))\n",
        "\n",
        "  # Pytorch requires kernel of shape (N,C,H,W), where N = batch size and C=#channels in input\n",
        "  kernel = kernel.view((1,1,kernel.shape[0], kernel.shape[1]))\n",
        "\n",
        "  # ---------CONVOLUTION LAYER from Pytorch--------\n",
        "  conv = Conv2d(in_channels=1, out_channels=1, kernel_size=kernel.shape, padding=padding, stride=stride)\n",
        "\n",
        "  # Set the kernel weights in the convolution layer\n",
        "  conv.weight = torch.nn.Parameter(kernel)\n",
        "\n",
        "  # ---------APPLY CONVOLUTION--------\n",
        "  output = conv(input.float())\n",
        "  output_img = output.data.numpy()  # Tensor to back in numpy\n",
        "  output_img = output_img.reshape((-1, output_img.shape[-1])) # Reshape to 2D image\n",
        "\n",
        "  return output_img"
      ],
      "metadata": {
        "id": "G5fRJziBk3YB"
      },
      "execution_count": 29,
      "outputs": []
    },
    {
      "cell_type": "code",
      "source": [
        "import torch\n",
        "import numpy as np\n",
        "\n",
        "def apply_conv(image, kernel, padding=0, stride=1):\n",
        "    if image is None:\n",
        "        raise ValueError(\"Input image is None\")\n",
        "\n",
        "    # Convert the image to a numpy array if it's not already\n",
        "    image = np.array(image)\n",
        "\n",
        "    # Convert the kernel to a numpy array if it's not already\n",
        "    kernel = np.array(kernel)\n",
        "\n",
        "    # Convert image and kernel to PyTorch tensors\n",
        "    image_tensor = torch.from_numpy(image)\n",
        "    kernel_tensor = torch.from_numpy(kernel)\n",
        "\n",
        "    # PyTorch requires input to convolution in (N,C,H,W), where N = batch size and C=#channels in input\n",
        "    input_tensor = image_tensor.view((1, 1, image.shape[0], image.shape[1]))\n",
        "\n",
        "    # Convert kernel to the format (C_in, C_out, kH, kW)\n",
        "    kernel_tensor = kernel_tensor.view((1, 1, kernel.shape[0], kernel.shape[1]))\n",
        "\n",
        "    # Define the convolutional layer\n",
        "    conv_layer = torch.nn.Conv2d(in_channels=1, out_channels=1, kernel_size=kernel.shape, stride=stride, padding=padding)\n",
        "\n",
        "    # Set the kernel weights of the convolutional layer\n",
        "    conv_layer.weight.data = kernel_tensor.float()\n",
        "\n",
        "    # Apply convolution operation\n",
        "    output_tensor = conv_layer(input_tensor.float())\n",
        "\n",
        "    # Convert output tensor back to numpy array\n",
        "    output = output_tensor.detach().numpy()\n",
        "\n",
        "    return output\n",
        "\n",
        "# Example usage:\n",
        "image = np.array([[1, 2, 3],\n",
        "                  [4, 5, 6],\n",
        "                  [7, 8, 9]])\n",
        "\n",
        "# Example filter/kernel\n",
        "filter = np.array([[1, 0, -1],\n",
        "                   [1, 0, -1],\n",
        "                   [1, 0, -1]])\n",
        "\n",
        "out1 = apply_conv(image, filter, padding=0, stride=1)\n",
        "print(out1)\n"
      ],
      "metadata": {
        "id": "1HPV6fFZloyc",
        "outputId": "ef9ac6d1-1cf4-46ad-c0d0-5637f0034511",
        "colab": {
          "base_uri": "https://localhost:8080/"
        }
      },
      "execution_count": 30,
      "outputs": [
        {
          "output_type": "stream",
          "name": "stdout",
          "text": [
            "[[[[-6.0734286]]]]\n"
          ]
        }
      ]
    },
    {
      "cell_type": "code",
      "source": [
        "import numpy as np\n",
        "import matplotlib.pyplot as plt\n",
        "import cv2\n",
        "\n",
        "# Assuming you have loaded your image into the variable 'image'\n",
        "# Example:\n",
        "# image = cv2.imread('image.jpg', cv2.IMREAD_GRAYSCALE)\n",
        "\n",
        "# Convert image to float32 format\n",
        "image_float32 = np.float32(image)\n",
        "\n",
        "# Perform edge detection using Sobel operator\n",
        "sobelx = cv2.Sobel(image_float32, cv2.CV_64F, 1, 0, ksize=3)\n",
        "sobely = cv2.Sobel(image_float32, cv2.CV_64F, 0, 1, ksize=3)\n",
        "\n",
        "# Compute magnitude of gradients\n",
        "magnitude = np.sqrt(sobelx**2 + sobely**2)\n",
        "\n",
        "# Normalize to 0-255\n",
        "magnitude = cv2.normalize(magnitude, None, 0, 255, cv2.NORM_MINMAX)\n",
        "\n",
        "# Convert to uint8\n",
        "magnitude = np.uint8(magnitude)\n",
        "\n",
        "# Thresholding\n",
        "threshold = 100\n",
        "ret, edges = cv2.threshold(magnitude, threshold, 255, cv2.THRESH_BINARY)\n",
        "\n",
        "# Displaying the original image and edge images\n",
        "fig = plt.figure(figsize=(10,6))\n",
        "\n",
        "ax = fig.add_subplot(1, 3, 1)\n",
        "ax.imshow(image, cmap='gray')\n",
        "ax.set_title('Original Image')\n",
        "\n",
        "ax = fig.add_subplot(1, 3, 2)\n",
        "ax.imshow(edges, cmap='gray')\n",
        "ax.set_title('Horizontal edge')\n",
        "\n",
        "ax = fig.add_subplot(1, 3, 3)\n",
        "ax.imshow(edges, cmap='gray')\n",
        "ax.set_title('Vertical edge')\n",
        "\n",
        "plt.show()\n"
      ],
      "metadata": {
        "id": "xgwXwbUKnmEr",
        "colab": {
          "base_uri": "https://localhost:8080/",
          "height": 310
        },
        "outputId": "9ca29c19-c803-4d38-d2cd-3d67aed620c7"
      },
      "execution_count": 31,
      "outputs": [
        {
          "output_type": "display_data",
          "data": {
            "text/plain": [
              "<Figure size 1000x600 with 3 Axes>"
            ],
            "image/png": "[encoded data removed]"
          },
          "metadata": {}
        }
      ]
    },
    {
      "cell_type": "markdown",
      "source": [
        "## Pooling Layers\n",
        "\n",
        "Pooling layers are used to reduce the dimensions of the feature maps. Thus, it reduces the number of parameters to learn and the amount of computation performed in the network. The pooling layer summarises the features present in a region of the feature map generated by a convolution layer.\n",
        "\n",
        "1) Max Pooling:\n",
        "\n",
        "<img src='https://media.geeksforgeeks.org/wp-content/uploads/20190721025744/Screenshot-2019-07-21-at-2.57.13-AM.png' height=150px/>\n",
        "\n",
        "2) Average Pooling:\n",
        "\n",
        "<img src='https://media.geeksforgeeks.org/wp-content/uploads/20190721030705/Screenshot-2019-07-21-at-3.05.56-AM.png' height=150px/>"
      ],
      "metadata": {
        "id": "FpA0yEk1BgRb"
      }
    },
    {
      "cell_type": "markdown",
      "source": [
        "## Softmax layer/activation\n",
        "Recall that logistic regression produces a decimal between 0 and 1.0. For example, a logistic regression output of 0.8 from an email classifier suggests an 80% chance of an email being spam and a 20% chance of it being not spam. Clearly, the sum of the probabilities of an email being either spam or not spam is 1.0.\n",
        "\n",
        "Softmax extends this idea into a multi-class world. That is, Softmax assigns decimal probabilities to each class in a multi-class problem. Those decimal probabilities must add up to 1.0. This additional constraint helps training converge more quickly than it otherwise would.\n",
        "Softmax is implemented through a neural network layer just before the output layer. The Softmax layer must have the same number of nodes as the output layer.\n",
        "\n",
        "<img src='https://miro.medium.com/max/1400/1*ReYpdIZ3ZSAPb2W8cJpkBg.jpeg' height=170px />"
      ],
      "metadata": {
        "id": "eu3QIU7AEO_x"
      }
    },
    {
      "cell_type": "markdown",
      "source": [
        "## Learning to train a CNN network"
      ],
      "metadata": {
        "id": "P6grxC0TKKSF"
      }
    },
    {
      "cell_type": "code",
      "source": [
        "# Import packages\n",
        "import torch\n",
        "import torchvision\n",
        "import torchvision.transforms as transforms\n",
        "import torch.nn as nn\n",
        "import torch.nn.functional as F\n",
        "import torch.optim as optim\n",
        "import matplotlib.pyplot as plt\n",
        "import numpy as np"
      ],
      "metadata": {
        "id": "qlO-uZUHnn_-"
      },
      "execution_count": 32,
      "outputs": []
    },
    {
      "cell_type": "code",
      "source": [
        "#  Images returned from torchvision dataset classes is in range [0,1]\n",
        "# We transform them to tensors and normalize them to range [-1,1] using 'Normalize' transform\n",
        "\n",
        "transform = transforms.Compose(\n",
        "    [transforms.ToTensor(),\n",
        "     transforms.Normalize((0.5, 0.5, 0.5), (0.5, 0.5, 0.5))])\n",
        "\n",
        "batch_size = 128\n",
        "\n",
        "trainset = torchvision.datasets.CIFAR10(root='./data', train=True,\n",
        "                                        download=True, transform=transform)\n",
        "trainloader = torch.utils.data.DataLoader(trainset, batch_size=batch_size,\n",
        "                                          shuffle=True, num_workers=2)\n",
        "\n",
        "testset = torchvision.datasets.CIFAR10(root='./data', train=False,\n",
        "                                       download=True, transform=transform)\n",
        "testloader = torch.utils.data.DataLoader(testset, batch_size=batch_size,\n",
        "                                         shuffle=False, num_workers=2)\n",
        "\n",
        "# Classes in CIFAR10\n",
        "classes = ('plane', 'car', 'bird', 'cat',\n",
        "           'deer', 'dog', 'frog', 'horse', 'ship', 'truck')"
      ],
      "metadata": {
        "id": "NnezCUbwGqzd",
        "colab": {
          "base_uri": "https://localhost:8080/"
        },
        "outputId": "810d28e3-cf81-47dc-ee78-86b7c4331d56"
      },
      "execution_count": 33,
      "outputs": [
        {
          "output_type": "stream",
          "name": "stdout",
          "text": [
            "Files already downloaded and verified\n",
            "Files already downloaded and verified\n"
          ]
        }
      ]
    },
    {
      "cell_type": "code",
      "source": [
        "print('Training data shape : ', trainset.data.shape, len(trainset.targets))\n",
        "print('Testing data shape : ', testset.data.shape, len(testset.targets))\n",
        "\n",
        "# Find the unique numbers from the train labels\n",
        "nClasses = len(classes)\n",
        "print('Total number of outputs : ', nClasses)\n",
        "print('Output classes : ', classes)"
      ],
      "metadata": {
        "id": "e2M57DhHGupn",
        "colab": {
          "base_uri": "https://localhost:8080/"
        },
        "outputId": "660d0566-5e77-40a8-ee06-24980fab30e7"
      },
      "execution_count": 34,
      "outputs": [
        {
          "output_type": "stream",
          "name": "stdout",
          "text": [
            "Training data shape :  (50000, 32, 32, 3) 50000\n",
            "Testing data shape :  (10000, 32, 32, 3) 10000\n",
            "Total number of outputs :  10\n",
            "Output classes :  ('plane', 'car', 'bird', 'cat', 'deer', 'dog', 'frog', 'horse', 'ship', 'truck')\n"
          ]
        }
      ]
    },
    {
      "cell_type": "code",
      "source": [
        "def train(num_epochs, model, train_loader, loss_func, optimizer):\n",
        "\n",
        "  # Training mode\n",
        "  model.train()\n",
        "\n",
        "  train_losses = []\n",
        "  train_acc = []\n",
        "\n",
        "  # Train the model\n",
        "  for epoch in range(num_epochs):\n",
        "    running_loss = 0\n",
        "    running_acc = 0\n",
        "    for i, (images, labels) in enumerate(train_loader):\n",
        "\n",
        "      # clear gradients for this training step\n",
        "      optimizer.zero_grad()\n",
        "\n",
        "      # Forward pass\n",
        "      output = model(images)\n",
        "\n",
        "      # Calculate loss\n",
        "      loss = loss_func(output, labels)\n",
        "\n",
        "      # Backpropagation, compute gradients\n",
        "      loss.backward()\n",
        "\n",
        "      # Apply gradients\n",
        "      optimizer.step()\n",
        "\n",
        "      # Running loss\n",
        "      running_loss += loss.item()\n",
        "\n",
        "      # indices of max probabilities\n",
        "      _, preds = torch.max(output, dim=1)\n",
        "\n",
        "      # Calculate number of correct predictions\n",
        "      correct = (preds.float() == labels).sum()\n",
        "      running_acc += correct\n",
        "\n",
        "      # Average loss and acc values\n",
        "      epoch_loss = running_loss / len(train_loader.dataset)\n",
        "      epoch_acc = running_acc / len(train_loader.dataset)\n",
        "\n",
        "    train_losses.append(epoch_loss)\n",
        "    train_acc.append(epoch_acc)\n",
        "    print ('Epoch {}/{}, Loss: {:.4f}, Accuracy: {:.4f}'.format(epoch + 1, num_epochs, epoch_loss, epoch_acc*100))\n",
        "\n",
        "  return train_losses, train_acc"
      ],
      "metadata": {
        "id": "_haw697lHCZs"
      },
      "execution_count": 35,
      "outputs": []
    },
    {
      "cell_type": "code",
      "source": [
        "def test_model(model, testloader):\n",
        "  correct = 0\n",
        "  total = 0\n",
        "  # Deactivate autograd engine (don't compute grads since we're not training)\n",
        "  with torch.no_grad():\n",
        "    for data in testloader:\n",
        "        images, labels = data\n",
        "        # Calculate outputs by running images through the network\n",
        "        outputs = model(images)\n",
        "        # The class with the highest value is what we choose as prediction\n",
        "        _, predicted = torch.max(outputs.data, 1)\n",
        "        total += labels.size(0)\n",
        "        correct += (predicted == labels).sum().item()\n",
        "\n",
        "  print('Accuracy of the network: %d %%' % (\n",
        "      100 * correct / total))"
      ],
      "metadata": {
        "id": "x1Wi6vW7IHcR"
      },
      "execution_count": 36,
      "outputs": []
    },
    {
      "cell_type": "code",
      "source": [
        "# CNN with 2 CONV layers and 3 FC layers\n",
        "class Net(nn.Module):\n",
        "    def __init__(self):\n",
        "        super().__init__()\n",
        "        self.conv1 = nn.Conv2d(3, 16, 3)\n",
        "        self.pool = nn.MaxPool2d(2, 2)\n",
        "        self.conv2 = nn.Conv2d(16, 32, 5)\n",
        "        self.fc1 = nn.Linear(32 * 5 * 5, 512)\n",
        "        self.fc2 = nn.Linear(512, 128)\n",
        "        # output layer 10 classes\n",
        "        self.fc3 = nn.Linear(128, 10)\n",
        "\n",
        "    def forward(self, x):\n",
        "        x = self.pool(F.relu(self.conv1(x)))\n",
        "        x = self.pool(F.relu(self.conv2(x)))\n",
        "        # flatten all dimensions except batch\n",
        "        x = torch.flatten(x, 1)\n",
        "        x = F.relu(self.fc1(x))\n",
        "        x = F.relu(self.fc2(x))\n",
        "        x = self.fc3(x)\n",
        "        return x"
      ],
      "metadata": {
        "id": "RgxbRadcHIms"
      },
      "execution_count": 37,
      "outputs": []
    },
    {
      "cell_type": "code",
      "source": [
        "model = Net()\n",
        "print(model)"
      ],
      "metadata": {
        "id": "02meBxVOHLNL",
        "colab": {
          "base_uri": "https://localhost:8080/"
        },
        "outputId": "a29c7fba-8d20-44ed-b84b-13d46ebf33d4"
      },
      "execution_count": 38,
      "outputs": [
        {
          "output_type": "stream",
          "name": "stdout",
          "text": [
            "Net(\n",
            "  (conv1): Conv2d(3, 16, kernel_size=(3, 3), stride=(1, 1))\n",
            "  (pool): MaxPool2d(kernel_size=2, stride=2, padding=0, dilation=1, ceil_mode=False)\n",
            "  (conv2): Conv2d(16, 32, kernel_size=(5, 5), stride=(1, 1))\n",
            "  (fc1): Linear(in_features=800, out_features=512, bias=True)\n",
            "  (fc2): Linear(in_features=512, out_features=128, bias=True)\n",
            "  (fc3): Linear(in_features=128, out_features=10, bias=True)\n",
            ")\n"
          ]
        }
      ]
    },
    {
      "cell_type": "code",
      "source": [
        "# Cross Entropy loss for multi-class classification\n",
        "criterion = nn.CrossEntropyLoss()"
      ],
      "metadata": {
        "id": "lfKHypeYHNHO"
      },
      "execution_count": 39,
      "outputs": []
    },
    {
      "cell_type": "code",
      "source": [
        "# SGD optimizer with momentum\n",
        "optimizer = optim.SGD(model.parameters(), lr=0.05, momentum=0.9)"
      ],
      "metadata": {
        "id": "MuDnJL28HPKP"
      },
      "execution_count": 40,
      "outputs": []
    },
    {
      "cell_type": "code",
      "source": [
        "num_epochs = 5  # iterations\n",
        "train_losses, train_acc = train(num_epochs, model, trainloader, criterion, optimizer)"
      ],
      "metadata": {
        "id": "AgKhwMrtHRCn",
        "colab": {
          "base_uri": "https://localhost:8080/"
        },
        "outputId": "dd7cca5d-fdf4-451c-f048-d51471382341"
      },
      "execution_count": 22,
      "outputs": [
        {
          "output_type": "stream",
          "name": "stderr",
          "text": [
            "/usr/lib/python3.10/multiprocessing/popen_fork.py:66: RuntimeWarning: os.fork() was called. os.fork() is incompatible with multithreaded code, and JAX is multithreaded, so this will likely lead to a deadlock.\n",
            "  self.pid = os.fork()\n"
          ]
        },
        {
          "output_type": "stream",
          "name": "stdout",
          "text": [
            "Epoch 1/5, Loss: 0.0129, Accuracy: 39.2020\n",
            "Epoch 2/5, Loss: 0.0093, Accuracy: 57.8340\n",
            "Epoch 3/5, Loss: 0.0078, Accuracy: 65.0960\n",
            "Epoch 4/5, Loss: 0.0067, Accuracy: 69.9240\n",
            "Epoch 5/5, Loss: 0.0059, Accuracy: 73.8620\n"
          ]
        }
      ]
    },
    {
      "cell_type": "code",
      "source": [
        "fig = plt.figure(figsize=(10,4))\n",
        "ax = fig.add_subplot(1,2, 1)\n",
        "ax.plot(np.arange(1,len(train_losses)+1),train_losses)\n",
        "plt.xlabel('Training loss')\n",
        "plt.ylabel('Epochs')\n",
        "ax.set_title('Loss vs Epochs')\n",
        "ax = fig.add_subplot(1,2, 2)\n",
        "ax.plot(np.arange(1,len(train_acc)+1),train_acc)\n",
        "plt.xlabel('Training accuracy')\n",
        "plt.ylabel('Epochs')\n",
        "ax.set_title('Accuracy vs Epochs')\n",
        "plt.show()"
      ],
      "metadata": {
        "id": "tM2wHKGuHToB",
        "colab": {
          "base_uri": "https://localhost:8080/",
          "height": 410
        },
        "outputId": "8e49b9ee-a12d-471e-9e3d-3a9d6b697410"
      },
      "execution_count": 23,
      "outputs": [
        {
          "output_type": "display_data",
          "data": {
            "text/plain": [
              "<Figure size 1000x400 with 2 Axes>"
            ],
            "image/png": "[encoded data removed]"
          },
          "metadata": {}
        }
      ]
    },
    {
      "cell_type": "code",
      "source": [
        "# Accuracy on test data after training\n",
        "test_model(model, testloader)"
      ],
      "metadata": {
        "id": "3sHK9hhmI-VY",
        "colab": {
          "base_uri": "https://localhost:8080/"
        },
        "outputId": "5f4071a3-428d-491f-9ba5-f09235d9a251"
      },
      "execution_count": 41,
      "outputs": [
        {
          "output_type": "stream",
          "name": "stdout",
          "text": [
            "Accuracy of the network: 9 %\n"
          ]
        }
      ]
    },
    {
      "cell_type": "markdown",
      "source": [
        "## Questions\n",
        "1) List some reasons why we should prefer CNN over ANN for image classification?\n",
        "\n",
        "2) Try improving the CNN performance further by tuning the hyperparameters(epochs, optimizer, LR etc). Report the improved test accuracy.\n",
        "\n",
        "3) What happens if you reduce the number of convolution layers to only 1?\n",
        "\n",
        "4) Why didn't we use the Softmax activation in the last layer of CNN?\n"
      ],
      "metadata": {
        "id": "RBQeCEB6REnH"
      }
    },
    {
      "cell_type": "markdown",
      "source": [
        "#**QUESTION-1 ANSWER**\n",
        "\n",
        "Convolutional Neural Networks (CNNs) are generally preferred over Artificial Neural Networks (ANNs) for image classification tasks due to several reasons:\n",
        "\n",
        "1. **Spatial Hierarchies**: CNNs are designed to capture spatial hierarchies present in images. They utilize convolutional layers to extract local patterns and hierarchical features from different spatial locations in the image. This spatial understanding is crucial for tasks like object recognition and segmentation, where the spatial arrangement of features holds significance.\n",
        "\n",
        "2. **Parameter Sharing**: CNNs leverage parameter sharing, where a single set of weights is shared across different spatial locations in the input image. This significantly reduces the number of parameters compared to fully connected ANNs, making CNNs more efficient, especially when dealing with large images.\n",
        "\n",
        "3. **Translation Invariance**: CNNs inherently possess translation invariance, meaning they can recognize patterns regardless of their position in the image. This is achieved through the use of convolutional and pooling layers, which extract features locally and downsample the spatial dimensions, making the network robust to translations.\n",
        "\n",
        "4. **Feature Hierarchy**: CNN architectures typically consist of multiple layers with increasing levels of abstraction. Lower layers capture low-level features like edges and textures, while higher layers capture more complex features and object representations. This hierarchical feature extraction enables CNNs to learn rich representations of images, leading to better classification performance.\n",
        "\n",
        "5. **Data Efficiency**: CNNs require fewer training samples compared to ANNs to achieve good performance. This is partly due to the shared weights and hierarchical feature extraction, which allows CNNs to generalize well even with limited training data.\n",
        "\n",
        "6. **Regularization**: CNN architectures often incorporate regularization techniques like dropout and weight decay, which help prevent overfitting and improve generalization performance.\n",
        "\n",
        "7. **Pretrained Models**: Pretrained CNN models, such as those trained on large datasets like ImageNet, are readily available. These pretrained models can be fine-tuned on specific image classification tasks with relatively small datasets, saving time and computational resources compared to training from scratch.\n",
        "\n",
        "8. **Hardware Optimization**: CNNs are highly optimized for parallel processing, making them well-suited for deployment on GPUs and specialized hardware like TPUs. This enables efficient inference and scalability for real-time applications and large-scale image classification tasks.\n",
        "\n",
        "Overall, the specialized architecture of CNNs, tailored for processing grid-like data such as images, along with their ability to learn hierarchical representations and handle large datasets efficiently, makes them the preferred choice for image classification tasks compared to traditional ANNs."
      ],
      "metadata": {
        "id": "wH5rYNoMPGpo"
      }
    },
    {
      "cell_type": "markdown",
      "source": [
        "#**QUESTION-2 ANSWER**\n",
        "\n",
        "To improve the performance of a Convolutional Neural Network (CNN), tuning hyperparameters such as the number of epochs, choice of optimizer, learning rate, and other factors can have a significant impact. Here's a general approach you can take:\n",
        "\n",
        "**Data Preprocessing:** Ensure your data is properly preprocessed, including normalization and augmentation if necessary.\n",
        "Model Architecture: Experiment with different architectures, layer configurations, and activation functions.\n",
        "Hyperparameter Tuning:\n",
        "\n",
        "**Number of epochs:** Increase or decrease the number of epochs to find the optimal training time.\n",
        "\n",
        "**Optimizer:** Try different optimizers like Adam, RMSprop, or SGD with different parameters.\n",
        "\n",
        "**Learning rate (LR):** Adjust the learning rate to find the optimal balance between convergence speed and accuracy. You can try a learning rate scheduler or adaptive learning rate methods.\n",
        "\n",
        "**Batch size:** Experiment with different batch sizes to see if it affects convergence or generalization.\n",
        "\n",
        "**Regularization:** Add dropout, L2 regularization, or other regularization techniques to prevent overfitting.\n",
        "\n",
        "**Architecture tweaks:** Adjust the number of layers, filter sizes, or strides.\n",
        "\n",
        "**Data augmentation:** Apply data augmentation techniques to increase the diversity of your training data.\n",
        "\n",
        "**Cross-validation:** Use cross-validation to assess the generalization performance of your model."
      ],
      "metadata": {
        "id": "q0gTflxFSF97"
      }
    },
    {
      "cell_type": "markdown",
      "source": [
        "#**QUESTION-3 ANSWER-**\n",
        "\n",
        "Reducing the number of convolutional layers in a Convolutional Neural Network (CNN) can have several effects on the model's performance and capacity to learn features from the data:\n",
        "\n",
        "1. **Reduced Model Capacity**: With fewer convolutional layers, the model's capacity to learn complex patterns and features from the data is reduced. This may result in a model that is less effective at capturing intricate relationships within the data.\n",
        "\n",
        "2. **Simpler Model**: A CNN with fewer convolutional layers will generally have a simpler architecture, which may lead to faster training times and reduced computational resources required for training and inference.\n",
        "\n",
        "3. **Underfitting**: If the reduced model capacity is not sufficient to capture the complexity of the data, the model may underfit, meaning it struggles to learn from the training data and generalizes poorly to unseen data.\n",
        "\n",
        "4. **Loss of Hierarchical Feature Representation**: Convolutional layers are designed to learn hierarchical representations of features in the input data. By reducing the number of convolutional layers, the model may lose the ability to extract hierarchical features, which can negatively impact its performance.\n",
        "\n",
        "5. **Decreased Performance**: In many cases, reducing the number of convolutional layers may lead to decreased performance, especially if the dataset is complex and requires a deeper architecture to achieve high accuracy.\n",
        "\n",
        "In summary, reducing the number of convolutional layers in a CNN simplifies the model and may lead to faster training times, but it also risks reducing the model's capacity to learn complex features from the data, potentially resulting in decreased performance. The impact on performance will depend on the specific characteristics of the dataset and the complexity of the task."
      ],
      "metadata": {
        "id": "ub81PObuTDPw"
      }
    },
    {
      "cell_type": "markdown",
      "source": [
        "#**QUESTION-4 ANSWER-**\n",
        "\n",
        "The Softmax activation function is commonly used in the last layer of a Convolutional Neural Network (CNN) for classification tasks. It is particularly well-suited for multi-class classification problems because it normalizes the output of the network into a probability distribution over the classes, ensuring that the output values sum up to 1.\n",
        "\n",
        "Here are a few reasons why Softmax activation is typically used in the last layer of a CNN for classification tasks:\n",
        "\n",
        "1. **Probabilistic Interpretation**: Softmax converts the raw output of the neural network into probabilities, making it easier to interpret the model's predictions as the likelihood of each class.\n",
        "\n",
        "2. **Classification Decision**: Softmax activation allows the model to make a clear decision by selecting the class with the highest probability as the predicted class label.\n",
        "\n",
        "3. **Cross-Entropy Loss**: Softmax activation is often paired with the categorical cross-entropy loss function, which is commonly used for multi-class classification problems. This combination works well together during training to optimize the model's parameters towards minimizing the classification error.\n",
        "\n",
        "However, there might be cases where Softmax activation is not used in the last layer of a CNN:\n",
        "\n",
        "1. **Regression Tasks**: If the task is a regression problem (predicting continuous values), Softmax activation is not appropriate. Instead, linear activation or other suitable activation functions are used depending on the nature of the output.\n",
        "\n",
        "2. **Specialized Architectures**: In some specialized architectures, such as Siamese networks or networks used for feature extraction, the last layer might not have Softmax activation. These architectures serve different purposes where the final layer's output is used differently, such as computing distances between feature vectors.\n",
        "\n",
        "In summary, Softmax activation is commonly used in the last layer of a CNN for classification tasks because of its probabilistic interpretation, suitability for multi-class problems, and compatibility with the cross-entropy loss function. However, its usage depends on the specific requirements and nature of the task being solved."
      ],
      "metadata": {
        "id": "BHDGbT9aTYm0"
      }
    }
  ]
}